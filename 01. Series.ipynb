{
 "cells": [
  {
   "cell_type": "markdown",
   "id": "2cbac297",
   "metadata": {},
   "source": [
    "# Pandas\n",
    "파이썬에서 사용하는 데이터 분석 라이브러리"
   ]
  },
  {
   "cell_type": "code",
   "execution_count": 1,
   "id": "8715b0d9",
   "metadata": {},
   "outputs": [],
   "source": [
    "import pandas as pd"
   ]
  },
  {
   "cell_type": "markdown",
   "id": "899d77db",
   "metadata": {},
   "source": [
    "# 1. Series\n",
    "\n",
    "1차원 데이터(정수, 실수, 문자열 등)"
   ]
  },
  {
   "cell_type": "markdown",
   "id": "8e3815d8",
   "metadata": {},
   "source": [
    "## Series 객체 생성\n",
    "예) 1월부터 4월까지 평균 온도 데이터 (-20,-10,10,20)"
   ]
  },
  {
   "cell_type": "code",
   "execution_count": 2,
   "id": "084c6e73",
   "metadata": {},
   "outputs": [
    {
     "name": "stdout",
     "output_type": "stream",
     "text": [
      "0   -20\n",
      "1   -10\n",
      "2    10\n",
      "3    20\n",
      "dtype: int64\n"
     ]
    }
   ],
   "source": [
    "temp = pd.Series([-20,-10,10,20])\n",
    "print(temp)"
   ]
  },
  {
   "cell_type": "code",
   "execution_count": 3,
   "id": "2524f322",
   "metadata": {},
   "outputs": [
    {
     "data": {
      "text/plain": [
       "-20"
      ]
     },
     "execution_count": 3,
     "metadata": {},
     "output_type": "execute_result"
    }
   ],
   "source": [
    "temp[0] # 1월 온도"
   ]
  },
  {
   "cell_type": "code",
   "execution_count": 4,
   "id": "c49b244d",
   "metadata": {},
   "outputs": [
    {
     "data": {
      "text/plain": [
       "10"
      ]
     },
     "execution_count": 4,
     "metadata": {},
     "output_type": "execute_result"
    }
   ],
   "source": [
    "temp[2] # 3월 온도"
   ]
  },
  {
   "cell_type": "markdown",
   "id": "84740edd",
   "metadata": {},
   "source": [
    "# Series 객체 생성 (Index 지정)"
   ]
  },
  {
   "cell_type": "code",
   "execution_count": 5,
   "id": "a797c6d0",
   "metadata": {},
   "outputs": [
    {
     "data": {
      "text/plain": [
       "Jan   -20\n",
       "Feb   -10\n",
       "Mar    10\n",
       "Apr    20\n",
       "dtype: int64"
      ]
     },
     "execution_count": 5,
     "metadata": {},
     "output_type": "execute_result"
    }
   ],
   "source": [
    "temp = pd.Series([-20,-10,10,20], index=['Jan','Feb','Mar','Apr'])\n",
    "temp"
   ]
  },
  {
   "cell_type": "code",
   "execution_count": 6,
   "id": "97af5a71",
   "metadata": {},
   "outputs": [
    {
     "data": {
      "text/plain": [
       "-20"
      ]
     },
     "execution_count": 6,
     "metadata": {},
     "output_type": "execute_result"
    }
   ],
   "source": [
    "temp['Jan'] # index Jan에 해당하는 데이터 출력"
   ]
  },
  {
   "cell_type": "code",
   "execution_count": 7,
   "id": "85ad5d5d",
   "metadata": {},
   "outputs": [
    {
     "data": {
      "text/plain": [
       "20"
      ]
     },
     "execution_count": 7,
     "metadata": {},
     "output_type": "execute_result"
    }
   ],
   "source": [
    "temp['Apr'] # index Apr에 해당하는 데이터 출력"
   ]
  },
  {
   "cell_type": "code",
   "execution_count": 9,
   "id": "d5980b54",
   "metadata": {},
   "outputs": [],
   "source": [
    "# temp['Jun'] #존재하지 않는 index 접근 시도 시 에러"
   ]
  },
  {
   "cell_type": "markdown",
   "id": "161ab220",
   "metadata": {},
   "source": [
    "### 강의에서 배운것 응용"
   ]
  },
  {
   "cell_type": "code",
   "execution_count": 10,
   "id": "da08d526",
   "metadata": {},
   "outputs": [],
   "source": [
    "weeks_mx_tmp = pd.Series([30,31,29,32,31,30,29],index=['수','목','금','토','일','월','화'])"
   ]
  },
  {
   "cell_type": "code",
   "execution_count": 11,
   "id": "71377ec3",
   "metadata": {},
   "outputs": [
    {
     "data": {
      "text/plain": [
       "30"
      ]
     },
     "execution_count": 11,
     "metadata": {},
     "output_type": "execute_result"
    }
   ],
   "source": [
    "weeks_mx_tmp['수']"
   ]
  }
 ],
 "metadata": {
  "kernelspec": {
   "display_name": "Python 3 (ipykernel)",
   "language": "python",
   "name": "python3"
  },
  "language_info": {
   "codemirror_mode": {
    "name": "ipython",
    "version": 3
   },
   "file_extension": ".py",
   "mimetype": "text/x-python",
   "name": "python",
   "nbconvert_exporter": "python",
   "pygments_lexer": "ipython3",
   "version": "3.9.12"
  }
 },
 "nbformat": 4,
 "nbformat_minor": 5
}
